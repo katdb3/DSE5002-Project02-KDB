{
 "cells": [
  {
   "cell_type": "code",
   "execution_count": 13,
   "id": "a1c6c52f-1133-43e9-95af-0f1954baff5b",
   "metadata": {},
   "outputs": [],
   "source": [
    "import pandas as pd\n",
    "import numpy as np\n",
    "import seaborn as sns\n",
    "import matplotlib as plt\n",
    "# creating the file paths\n",
    "\n",
    "dssalariesdata = '/Users/katarinadouglas-blake/Desktop/DSE5002/Project 02/ds_salaries.csv'\n",
    "costoflivingdata = '/Users/katarinadouglas-blake/Desktop/DSE5002/Project 02/cost_of_living.csv'\n",
    "levelssalarydata = '/Users/katarinadouglas-blake/Desktop/DSE5002/Project 02/Levels_Fyi_Salary_Data.csv'\n",
    "\n",
    "\n",
    "dssalaries=pd.read_csv(dssalariesdata)\n",
    "costofliving=pd.read_csv(costoflivingdata)\n",
    "levelssalary=pd.read_csv(levelssalarydata)\n"
   ]
  },
  {
   "cell_type": "code",
   "execution_count": 15,
   "id": "cbf46d84-df09-4c49-af0a-8f7424788285",
   "metadata": {},
   "outputs": [
    {
     "name": "stdout",
     "output_type": "stream",
     "text": [
      "<class 'pandas.core.frame.DataFrame'>\n",
      "RangeIndex: 607 entries, 0 to 606\n",
      "Data columns (total 12 columns):\n",
      " #   Column              Non-Null Count  Dtype \n",
      "---  ------              --------------  ----- \n",
      " 0   Unnamed: 0          607 non-null    int64 \n",
      " 1   work_year           607 non-null    int64 \n",
      " 2   experience_level    607 non-null    object\n",
      " 3   employment_type     607 non-null    object\n",
      " 4   job_title           607 non-null    object\n",
      " 5   salary              607 non-null    int64 \n",
      " 6   salary_currency     607 non-null    object\n",
      " 7   salary_in_usd       607 non-null    int64 \n",
      " 8   employee_residence  607 non-null    object\n",
      " 9   remote_ratio        607 non-null    int64 \n",
      " 10  company_location    607 non-null    object\n",
      " 11  company_size        607 non-null    object\n",
      "dtypes: int64(5), object(7)\n",
      "memory usage: 57.0+ KB\n",
      "None\n",
      "       Unnamed: 0    work_year        salary  salary_in_usd  remote_ratio\n",
      "count  607.000000   607.000000  6.070000e+02     607.000000     607.00000\n",
      "mean   303.000000  2021.405272  3.240001e+05  112297.869852      70.92257\n",
      "std    175.370085     0.692133  1.544357e+06   70957.259411      40.70913\n",
      "min      0.000000  2020.000000  4.000000e+03    2859.000000       0.00000\n",
      "25%    151.500000  2021.000000  7.000000e+04   62726.000000      50.00000\n",
      "50%    303.000000  2022.000000  1.150000e+05  101570.000000     100.00000\n",
      "75%    454.500000  2022.000000  1.650000e+05  150000.000000     100.00000\n",
      "max    606.000000  2022.000000  3.040000e+07  600000.000000     100.00000\n"
     ]
    }
   ],
   "source": [
    "# data salaries summary statistics\n",
    "print(dssalaries.info())\n",
    "print(dssalaries.describe())"
   ]
  },
  {
   "cell_type": "code",
   "execution_count": 17,
   "id": "4d3eb462-5761-4b65-b6c7-f48abc56c508",
   "metadata": {
    "scrolled": true
   },
   "outputs": [
    {
     "name": "stdout",
     "output_type": "stream",
     "text": [
      "<class 'pandas.core.frame.DataFrame'>\n",
      "RangeIndex: 578 entries, 0 to 577\n",
      "Data columns (total 8 columns):\n",
      " #   Column                          Non-Null Count  Dtype  \n",
      "---  ------                          --------------  -----  \n",
      " 0   Rank                            0 non-null      float64\n",
      " 1   City                            578 non-null    object \n",
      " 2   Cost of Living Index            578 non-null    float64\n",
      " 3   Rent Index                      578 non-null    float64\n",
      " 4   Cost of Living Plus Rent Index  578 non-null    float64\n",
      " 5   Groceries Index                 578 non-null    float64\n",
      " 6   Restaurant Price Index          578 non-null    float64\n",
      " 7   Local Purchasing Power Index    578 non-null    float64\n",
      "dtypes: float64(7), object(1)\n",
      "memory usage: 36.3+ KB\n",
      "None\n",
      "       Rank  Cost of Living Index  Rent Index  Cost of Living Plus Rent Index  \\\n",
      "count   0.0            578.000000  578.000000                      578.000000   \n",
      "mean    NaN             57.541349   26.650657                       43.061228   \n",
      "std     NaN             21.656441   17.841544                       18.903751   \n",
      "min     NaN             18.550000    2.370000                       10.970000   \n",
      "25%     NaN             38.015000   12.265000                       26.145000   \n",
      "50%     NaN             62.405000   23.280000                       44.990000   \n",
      "75%     NaN             73.030000   36.615000                       55.720000   \n",
      "max     NaN            149.020000  108.420000                      124.220000   \n",
      "\n",
      "       Groceries Index  Restaurant Price Index  Local Purchasing Power Index  \n",
      "count       578.000000              578.000000                    578.000000  \n",
      "mean         53.566782               54.354360                     71.504481  \n",
      "std          22.125102               25.863557                     34.206184  \n",
      "min          15.220000               11.390000                      1.620000  \n",
      "25%          34.025000               30.447500                     42.762500  \n",
      "50%          52.735000               59.135000                     70.935000  \n",
      "75%          68.942500               73.545000                     95.682500  \n",
      "max         157.890000              155.220000                    172.980000  \n"
     ]
    }
   ],
   "source": [
    "# cost of living summary\n",
    "print(costofliving.info())\n",
    "print(costofliving.describe())"
   ]
  },
  {
   "cell_type": "code",
   "execution_count": 23,
   "id": "7eff6a7b-17a1-464a-ab9a-68208e541e8e",
   "metadata": {
    "collapsed": true,
    "jupyter": {
     "outputs_hidden": true
    }
   },
   "outputs": [
    {
     "name": "stdout",
     "output_type": "stream",
     "text": [
      "<class 'pandas.core.frame.DataFrame'>\n",
      "RangeIndex: 62642 entries, 0 to 62641\n",
      "Data columns (total 29 columns):\n",
      " #   Column                   Non-Null Count  Dtype  \n",
      "---  ------                   --------------  -----  \n",
      " 0   timestamp                62642 non-null  object \n",
      " 1   company                  62637 non-null  object \n",
      " 2   level                    62519 non-null  object \n",
      " 3   title                    62642 non-null  object \n",
      " 4   totalyearlycompensation  62642 non-null  int64  \n",
      " 5   location                 62642 non-null  object \n",
      " 6   yearsofexperience        62642 non-null  float64\n",
      " 7   yearsatcompany           62642 non-null  float64\n",
      " 8   tag                      61772 non-null  object \n",
      " 9   basesalary               62642 non-null  int64  \n",
      " 10  stockgrantvalue          62642 non-null  float64\n",
      " 11  bonus                    62642 non-null  float64\n",
      " 12  gender                   43102 non-null  object \n",
      " 13  otherdetails             40134 non-null  object \n",
      " 14  cityid                   62642 non-null  int64  \n",
      " 15  dmaid                    62640 non-null  float64\n",
      " 16  rowNumber                62642 non-null  int64  \n",
      " 17  Masters_Degree           62642 non-null  int64  \n",
      " 18  Bachelors_Degree         62642 non-null  int64  \n",
      " 19  Doctorate_Degree         62642 non-null  int64  \n",
      " 20  Highschool               62642 non-null  int64  \n",
      " 21  Some_College             62642 non-null  int64  \n",
      " 22  Race_Asian               62642 non-null  int64  \n",
      " 23  Race_White               62642 non-null  int64  \n",
      " 24  Race_Two_Or_More         62642 non-null  int64  \n",
      " 25  Race_Black               62642 non-null  int64  \n",
      " 26  Race_Hispanic            62642 non-null  int64  \n",
      " 27  Race                     22427 non-null  object \n",
      " 28  Education                30370 non-null  object \n",
      "dtypes: float64(5), int64(14), object(10)\n",
      "memory usage: 13.9+ MB\n",
      "None\n",
      "       totalyearlycompensation  yearsofexperience  yearsatcompany  \\\n",
      "count             6.264200e+04       62642.000000    62642.000000   \n",
      "mean              2.163004e+05           7.204135        2.702093   \n",
      "std               1.380337e+05           5.840375        3.263656   \n",
      "min               1.000000e+04           0.000000        0.000000   \n",
      "25%               1.350000e+05           3.000000        0.000000   \n",
      "50%               1.880000e+05           6.000000        2.000000   \n",
      "75%               2.640000e+05          10.000000        4.000000   \n",
      "max               4.980000e+06          69.000000       69.000000   \n",
      "\n",
      "         basesalary  stockgrantvalue           bonus        cityid  \\\n",
      "count  6.264200e+04     6.264200e+04    62642.000000  62642.000000   \n",
      "mean   1.366873e+05     5.148608e+04    19334.746588   9856.201989   \n",
      "std    6.136928e+04     8.187457e+04    26781.292040   6679.104563   \n",
      "min    0.000000e+00     0.000000e+00        0.000000      0.000000   \n",
      "25%    1.080000e+05     0.000000e+00     1000.000000   7369.000000   \n",
      "50%    1.400000e+05     2.500000e+04    14000.000000   7839.000000   \n",
      "75%    1.700000e+05     6.500000e+04    26000.000000  11521.000000   \n",
      "max    1.659870e+06     2.800000e+06  1000000.000000  47926.000000   \n",
      "\n",
      "              dmaid     rowNumber  Masters_Degree  Bachelors_Degree  \\\n",
      "count  62640.000000  62642.000000    62642.000000      62642.000000   \n",
      "mean     616.097222  41694.723732        0.245698          0.201223   \n",
      "std      289.843390  24488.865879        0.430504          0.400917   \n",
      "min        0.000000      1.000000        0.000000          0.000000   \n",
      "25%      506.000000  20069.250000        0.000000          0.000000   \n",
      "50%      807.000000  42019.000000        0.000000          0.000000   \n",
      "75%      807.000000  63021.750000        0.000000          0.000000   \n",
      "max      881.000000  83875.000000        1.000000          1.000000   \n",
      "\n",
      "       Doctorate_Degree    Highschool  Some_College    Race_Asian  \\\n",
      "count      62642.000000  62642.000000  62642.000000  62642.000000   \n",
      "mean           0.028783      0.005108      0.005667      0.187925   \n",
      "std            0.167196      0.071291      0.075067      0.390655   \n",
      "min            0.000000      0.000000      0.000000      0.000000   \n",
      "25%            0.000000      0.000000      0.000000      0.000000   \n",
      "50%            0.000000      0.000000      0.000000      0.000000   \n",
      "75%            0.000000      0.000000      0.000000      0.000000   \n",
      "max            1.000000      1.000000      1.000000      1.000000   \n",
      "\n",
      "         Race_White  Race_Two_Or_More    Race_Black  Race_Hispanic  \n",
      "count  62642.000000      62642.000000  62642.000000   62642.000000  \n",
      "mean       0.128221          0.012835      0.011015       0.018039  \n",
      "std        0.334338          0.112562      0.104373       0.133094  \n",
      "min        0.000000          0.000000      0.000000       0.000000  \n",
      "25%        0.000000          0.000000      0.000000       0.000000  \n",
      "50%        0.000000          0.000000      0.000000       0.000000  \n",
      "75%        0.000000          0.000000      0.000000       0.000000  \n",
      "max        1.000000          1.000000      1.000000       1.000000  \n"
     ]
    }
   ],
   "source": [
    "print(levelssalary.info())\n",
    "print(levelssalary.describe())"
   ]
  },
  {
   "cell_type": "code",
   "execution_count": 59,
   "id": "6d6b6f41-bc30-41d8-a087-57fcaf6fed11",
   "metadata": {},
   "outputs": [
    {
     "name": "stdout",
     "output_type": "stream",
     "text": [
      "72.0\n"
     ]
    }
   ],
   "source": [
    "# finding the avg local purchasing power index helps measure how far a salary \n",
    "# will stretch in a specific location.\n",
    "average_lpp=costofliving['Local Purchasing Power Index'].mean().round()\n",
    "print(average_lpp)"
   ]
  },
  {
   "cell_type": "code",
   "execution_count": 63,
   "id": "f79a1090-ad08-4765-9294-94ad5315a66a",
   "metadata": {},
   "outputs": [
    {
     "name": "stdout",
     "output_type": "stream",
     "text": [
      "     effective_salary employee_residence\n",
      "0        84945.972222                 DE\n",
      "2       164584.201389                 GB\n",
      "10       61352.500000                 FR\n",
      "12       46499.444444                 FR\n",
      "29      156165.937500                 CA\n",
      "..                ...                ...\n",
      "531      30523.437500                 CA\n",
      "567      64001.736111                 GB\n",
      "586               NaN                 GB\n",
      "600               NaN                 CA\n",
      "601               NaN                 CA\n",
      "\n",
      "[116 rows x 2 columns]\n"
     ]
    }
   ],
   "source": []
  },
  {
   "cell_type": "code",
   "execution_count": null,
   "id": "3bb24346-61b1-448a-9b65-95a2ebd6fb3e",
   "metadata": {},
   "outputs": [],
   "source": []
  }
 ],
 "metadata": {
  "kernelspec": {
   "display_name": "Python 3 (ipykernel)",
   "language": "python",
   "name": "python3"
  },
  "language_info": {
   "codemirror_mode": {
    "name": "ipython",
    "version": 3
   },
   "file_extension": ".py",
   "mimetype": "text/x-python",
   "name": "python",
   "nbconvert_exporter": "python",
   "pygments_lexer": "ipython3",
   "version": "3.12.7"
  }
 },
 "nbformat": 4,
 "nbformat_minor": 5
}
